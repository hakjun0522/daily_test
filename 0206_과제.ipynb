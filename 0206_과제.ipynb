{
  "nbformat": 4,
  "nbformat_minor": 0,
  "metadata": {
    "colab": {
      "provenance": [],
      "authorship_tag": "ABX9TyOS+jNhzod1rruqdI8lT8r8",
      "include_colab_link": true
    },
    "kernelspec": {
      "name": "python3",
      "display_name": "Python 3"
    },
    "language_info": {
      "name": "python"
    }
  },
  "cells": [
    {
      "cell_type": "markdown",
      "metadata": {
        "id": "view-in-github",
        "colab_type": "text"
      },
      "source": [
        "<a href=\"https://colab.research.google.com/github/hakjun0522/daily_test/blob/main/0206_%EA%B3%BC%EC%A0%9C.ipynb\" target=\"_parent\"><img src=\"https://colab.research.google.com/assets/colab-badge.svg\" alt=\"Open In Colab\"/></a>"
      ]
    },
    {
      "cell_type": "markdown",
      "source": [
        "Q1_0206.IMDB 영화 리뷰 데이터셋을 사용하여 긍부정 이진분류 모델링 및 평가를 수행하세요."
      ],
      "metadata": {
        "id": "LX0-lcFfgePY"
      }
    },
    {
      "cell_type": "code",
      "source": [
        "from keras.datasets import imdb\n",
        "from keras.preprocessing.sequence import pad_sequences\n",
        "from keras.models import Sequential\n",
        "from keras.layers import Embedding, Flatten, Dense\n",
        "\n",
        "# 데이터셋 로드\n",
        "# num_words=10000은 훈련 데이터에서 가장 자주 나타나는 상위 10,000개의 단어만 사용하겠다는 의미입니다.\n",
        "(x_train, y_train), (x_test, y_test) = imdb.load_data(num_words=10000)\n",
        "\n",
        "# 시퀀스 데이터 패딩\n",
        "x_train = pad_sequences(x_train, maxlen=100)\n",
        "x_test = pad_sequences(x_test, maxlen=100)"
      ],
      "metadata": {
        "colab": {
          "base_uri": "https://localhost:8080/"
        },
        "id": "Fs2IF15Pgy5z",
        "outputId": "c2780152-cf55-4af0-9e38-c30bc31434f3"
      },
      "execution_count": 1,
      "outputs": [
        {
          "output_type": "stream",
          "name": "stdout",
          "text": [
            "Downloading data from https://storage.googleapis.com/tensorflow/tf-keras-datasets/imdb.npz\n",
            "17464789/17464789 [==============================] - 0s 0us/step\n"
          ]
        }
      ]
    },
    {
      "cell_type": "code",
      "source": [
        "from keras.datasets import imdb\n",
        "from keras.preprocessing.sequence import pad_sequences\n",
        "from keras.models import Sequential\n",
        "from keras.layers import Embedding, Flatten, Dense\n",
        "\n",
        "# 데이터셋 로드\n",
        "# num_words=10000은 훈련 데이터에서 가장 자주 나타나는 상위 10,000개의 단어만 사용하겠다는 의미입니다.\n",
        "(x_train, y_train), (x_test, y_test) = imdb.load_data(num_words=10000)\n",
        "\n",
        "# 시퀀스 데이터 패딩\n",
        "x_train = pad_sequences(x_train, maxlen=100)\n",
        "x_test = pad_sequences(x_test, maxlen=100)\n",
        "\n",
        "\n",
        "model = Sequential()\n",
        "model.add(Embedding(input_dim=10000, output_dim=8, input_length=100))\n",
        "model.add(Flatten())\n",
        "model.add(Dense(units=1, activation='sigmoid'))\n",
        "\n",
        "\n",
        "model.compile(optimizer='adam',\n",
        "              loss='binary_crossentropy',\n",
        "              metrics=['accuracy'])\n",
        "\n",
        "\n",
        "model.summary()\n",
        "\n",
        "\n",
        "model.fit(x_train, y_train, epochs=10, batch_size=32, validation_split=0.2)\n",
        "\n",
        "\n",
        "loss, accuracy = model.evaluate(x_test, y_test)\n",
        "print(\"Test Accuracy:\", accuracy)\n"
      ],
      "metadata": {
        "colab": {
          "base_uri": "https://localhost:8080/"
        },
        "id": "luM0A6hEg1Qe",
        "outputId": "f82eb5d5-85a5-402c-f658-3223bad2d23d"
      },
      "execution_count": 2,
      "outputs": [
        {
          "output_type": "stream",
          "name": "stdout",
          "text": [
            "Model: \"sequential\"\n",
            "_________________________________________________________________\n",
            " Layer (type)                Output Shape              Param #   \n",
            "=================================================================\n",
            " embedding (Embedding)       (None, 100, 8)            80000     \n",
            "                                                                 \n",
            " flatten (Flatten)           (None, 800)               0         \n",
            "                                                                 \n",
            " dense (Dense)               (None, 1)                 801       \n",
            "                                                                 \n",
            "=================================================================\n",
            "Total params: 80801 (315.63 KB)\n",
            "Trainable params: 80801 (315.63 KB)\n",
            "Non-trainable params: 0 (0.00 Byte)\n",
            "_________________________________________________________________\n",
            "Epoch 1/10\n",
            "625/625 [==============================] - 3s 4ms/step - loss: 0.5818 - accuracy: 0.7129 - val_loss: 0.4100 - val_accuracy: 0.8218\n",
            "Epoch 2/10\n",
            "625/625 [==============================] - 2s 3ms/step - loss: 0.3187 - accuracy: 0.8734 - val_loss: 0.3350 - val_accuracy: 0.8540\n",
            "Epoch 3/10\n",
            "625/625 [==============================] - 2s 3ms/step - loss: 0.2317 - accuracy: 0.9145 - val_loss: 0.3260 - val_accuracy: 0.8542\n",
            "Epoch 4/10\n",
            "625/625 [==============================] - 2s 3ms/step - loss: 0.1768 - accuracy: 0.9427 - val_loss: 0.3381 - val_accuracy: 0.8504\n",
            "Epoch 5/10\n",
            "625/625 [==============================] - 2s 3ms/step - loss: 0.1323 - accuracy: 0.9631 - val_loss: 0.3532 - val_accuracy: 0.8454\n",
            "Epoch 6/10\n",
            "625/625 [==============================] - 2s 3ms/step - loss: 0.0970 - accuracy: 0.9779 - val_loss: 0.3728 - val_accuracy: 0.8448\n",
            "Epoch 7/10\n",
            "625/625 [==============================] - 2s 4ms/step - loss: 0.0682 - accuracy: 0.9883 - val_loss: 0.3976 - val_accuracy: 0.8420\n",
            "Epoch 8/10\n",
            "625/625 [==============================] - 2s 3ms/step - loss: 0.0465 - accuracy: 0.9949 - val_loss: 0.4253 - val_accuracy: 0.8392\n",
            "Epoch 9/10\n",
            "625/625 [==============================] - 2s 3ms/step - loss: 0.0314 - accuracy: 0.9980 - val_loss: 0.4521 - val_accuracy: 0.8396\n",
            "Epoch 10/10\n",
            "625/625 [==============================] - 2s 3ms/step - loss: 0.0210 - accuracy: 0.9994 - val_loss: 0.4815 - val_accuracy: 0.8350\n",
            "782/782 [==============================] - 1s 1ms/step - loss: 0.4876 - accuracy: 0.8356\n",
            "Test Accuracy: 0.835640013217926\n"
          ]
        }
      ]
    },
    {
      "cell_type": "markdown",
      "source": [
        "Q2_0206. IMDB 영화 리뷰 데이터셋에 대한 감성 분석을 수행하는 SimpleRNN 모델을 구성하고 훈련하는 예제에 EarlyStopping과 ModelCheckpoint 콜백을 추가하여 모델 훈려을 개선하세요."
      ],
      "metadata": {
        "id": "Sgg2ilUMg522"
      }
    },
    {
      "cell_type": "code",
      "source": [
        "import numpy as np\n",
        "from keras.datasets import imdb\n",
        "from keras.preprocessing.sequence import pad_sequences\n",
        "from keras.models import Sequential\n",
        "from keras.layers import Embedding, SimpleRNN, Dense\n",
        "from keras.callbacks import EarlyStopping, ModelCheckpoint\n",
        "\n",
        "# IMDB 데이터셋 로드\n",
        "(x_train, y_train), (x_test, y_test) = imdb.load_data(num_words=10000)\n",
        "\n",
        "# 데이터 전처리: 시퀀스 패딩\n",
        "max_len = 100\n",
        "x_train = pad_sequences(x_train, maxlen=max_len)\n",
        "x_test = pad_sequences(x_test, maxlen=max_len)\n",
        "\n",
        "# 모델 구성\n",
        "model = Sequential()\n",
        "model.add(Embedding(input_dim=10000, output_dim=32))\n",
        "model.add(SimpleRNN(units=32))\n",
        "model.add(Dense(units=1, activation='sigmoid'))\n",
        "\n",
        "# 모델 컴파일\n",
        "model.compile(optimizer='adam', loss='binary_crossentropy', metrics=['accuracy'])\n",
        "\n",
        "# 콜백 정의: EarlyStopping과 ModelCheckpoint\n",
        "early_stopping = EarlyStopping(monitor='val_loss', patience=3, verbose=1, restore_best_weights=True)\n",
        "model_checkpoint = ModelCheckpoint(filepath='best_model.h5', monitor='val_accuracy', save_best_only=True, verbose=1)\n",
        "\n",
        "# 모델 훈련\n",
        "history = model.fit(x_train, y_train, epochs=20, batch_size=128, validation_split=0.2, callbacks=[early_stopping, model_checkpoint])\n",
        "\n",
        "# 모델 평가\n",
        "loss, accuracy = model.evaluate(x_test, y_test)\n",
        "print(\"Test Accuracy:\", accuracy)\n"
      ],
      "metadata": {
        "colab": {
          "base_uri": "https://localhost:8080/"
        },
        "id": "2mbROunbg7iO",
        "outputId": "a61000ec-8c1a-4320-fff5-9af31a67102f"
      },
      "execution_count": 3,
      "outputs": [
        {
          "output_type": "stream",
          "name": "stdout",
          "text": [
            "Epoch 1/20\n",
            "155/157 [============================>.] - ETA: 0s - loss: 0.6499 - accuracy: 0.6064\n",
            "Epoch 1: val_accuracy improved from -inf to 0.77380, saving model to best_model.h5\n",
            "157/157 [==============================] - 7s 38ms/step - loss: 0.6486 - accuracy: 0.6077 - val_loss: 0.4945 - val_accuracy: 0.7738\n",
            "Epoch 2/20\n",
            "  5/157 [..............................] - ETA: 3s - loss: 0.4354 - accuracy: 0.8062"
          ]
        },
        {
          "output_type": "stream",
          "name": "stderr",
          "text": [
            "/usr/local/lib/python3.10/dist-packages/keras/src/engine/training.py:3103: UserWarning: You are saving your model as an HDF5 file via `model.save()`. This file format is considered legacy. We recommend using instead the native Keras format, e.g. `model.save('my_model.keras')`.\n",
            "  saving_api.save_model(\n"
          ]
        },
        {
          "output_type": "stream",
          "name": "stdout",
          "text": [
            "157/157 [==============================] - ETA: 0s - loss: 0.3772 - accuracy: 0.8390\n",
            "Epoch 2: val_accuracy improved from 0.77380 to 0.82860, saving model to best_model.h5\n",
            "157/157 [==============================] - 5s 30ms/step - loss: 0.3772 - accuracy: 0.8390 - val_loss: 0.4024 - val_accuracy: 0.8286\n",
            "Epoch 3/20\n",
            "156/157 [============================>.] - ETA: 0s - loss: 0.2356 - accuracy: 0.9097\n",
            "Epoch 3: val_accuracy did not improve from 0.82860\n",
            "157/157 [==============================] - 6s 37ms/step - loss: 0.2355 - accuracy: 0.9097 - val_loss: 0.4226 - val_accuracy: 0.8238\n",
            "Epoch 4/20\n",
            "155/157 [============================>.] - ETA: 0s - loss: 0.1241 - accuracy: 0.9584\n",
            "Epoch 4: val_accuracy did not improve from 0.82860\n",
            "157/157 [==============================] - 5s 29ms/step - loss: 0.1243 - accuracy: 0.9584 - val_loss: 0.4891 - val_accuracy: 0.8134\n",
            "Epoch 5/20\n",
            "155/157 [============================>.] - ETA: 0s - loss: 0.0444 - accuracy: 0.9895Restoring model weights from the end of the best epoch: 2.\n",
            "\n",
            "Epoch 5: val_accuracy did not improve from 0.82860\n",
            "157/157 [==============================] - 5s 29ms/step - loss: 0.0444 - accuracy: 0.9895 - val_loss: 0.5788 - val_accuracy: 0.8032\n",
            "Epoch 5: early stopping\n",
            "782/782 [==============================] - 4s 6ms/step - loss: 0.4024 - accuracy: 0.8261\n",
            "Test Accuracy: 0.8261200189590454\n"
          ]
        }
      ]
    }
  ]
}